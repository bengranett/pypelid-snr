{
 "cells": [
  {
   "cell_type": "code",
   "execution_count": 1,
   "metadata": {
    "scrolled": false
   },
   "outputs": [
    {
     "data": {
      "application/vnd.jupyter.widget-view+json": {
       "model_id": "85ba99eaff304df1bd37d26be7d81571",
       "version_major": 2,
       "version_minor": 0
      },
      "text/plain": [
       "HTML(value=u'Pypelid version: 0.0.7-34-g6402847')"
      ]
     },
     "metadata": {},
     "output_type": "display_data"
    },
    {
     "data": {
      "application/vnd.jupyter.widget-view+json": {
       "model_id": "2840dcb5bd4848738f6245cf17989ba5",
       "version_major": 2,
       "version_minor": 0
      },
      "text/plain": [
       "VGFiKGNoaWxkcmVuPShWQm94KGNoaWxkcmVuPShCb3VuZGVkRmxvYXRUZXh0KHZhbHVlPTEuMCwgZGVzY3JpcHRpb249dSdSZWRzaGlmdCcsIGxheW91dD1MYXlvdXQod2lkdGg9dSczMDBweCfigKY=\n"
      ]
     },
     "metadata": {},
     "output_type": "display_data"
    },
    {
     "data": {
      "application/vnd.jupyter.widget-view+json": {
       "model_id": "c18951f518d943d8ada6e5e1dc07551a",
       "version_major": 2,
       "version_minor": 0
      },
      "text/plain": [
       "SEJveChjaGlsZHJlbj0oQnV0dG9uKGRlc2NyaXB0aW9uPXUnQ29tcHV0ZScsIGljb249dSdwbGF5Jywgc3R5bGU9QnV0dG9uU3R5bGUoKSksIEludFByb2dyZXNzKHZhbHVlPTAsIGJhcl9zdHnigKY=\n"
      ]
     },
     "metadata": {},
     "output_type": "display_data"
    },
    {
     "data": {
      "application/vnd.jupyter.widget-view+json": {
       "model_id": "658ebff622544c6d807b89b42ee19d11",
       "version_major": 2,
       "version_minor": 0
      },
      "text/plain": [
       "Output()"
      ]
     },
     "metadata": {},
     "output_type": "display_data"
    }
   ],
   "source": [
    "%matplotlib inline\n",
    "import pypelid_widget\n",
    "W = pypelid_widget.PypelidWidget()\n",
    "W.show()"
   ]
  },
  {
   "cell_type": "code",
   "execution_count": null,
   "metadata": {},
   "outputs": [],
   "source": []
  }
 ],
 "metadata": {
  "kernelspec": {
   "display_name": "Python 2",
   "language": "python",
   "name": "python2"
  },
  "language_info": {
   "codemirror_mode": {
    "name": "ipython",
    "version": 2
   },
   "file_extension": ".py",
   "mimetype": "text/x-python",
   "name": "python",
   "nbconvert_exporter": "python",
   "pygments_lexer": "ipython2",
   "version": "2.7.13"
  }
 },
 "nbformat": 4,
 "nbformat_minor": 2
}
